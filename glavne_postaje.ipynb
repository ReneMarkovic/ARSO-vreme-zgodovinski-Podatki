{
 "cells": [
  {
   "cell_type": "code",
   "execution_count": 14,
   "metadata": {},
   "outputs": [],
   "source": [
    "import json\n",
    "import requests\n",
    "import xml.etree.ElementTree as ET\n",
    "import time\n",
    "import pandas as pd\n",
    "import seaborn as sns\n",
    "from tqdm.auto import tqdm\n",
    "import re\n",
    "from datetime import datetime, timedelta\n",
    "import os\n",
    "from IPython.display import clear_output"
   ]
  },
  {
   "cell_type": "code",
   "execution_count": 15,
   "metadata": {},
   "outputs": [],
   "source": [
    "base_data = json.load(open('info.json', encoding='utf-8'))\n",
    "epoch_start_in_minutes = 84150720\n",
    "epoch_start_date = datetime(1960, 1, 1)"
   ]
  },
  {
   "cell_type": "code",
   "execution_count": 50,
   "metadata": {},
   "outputs": [],
   "source": [
    "# Function to convert a minute-based offset to a date, given an epoch\n",
    "def get_days_in_month(year, month):\n",
    "    start_m = month - 1 if month < 1 else 12\n",
    "    start_y = year if month > 1 else year - 1\n",
    "    days_in_month = (datetime(year, month, 1) - datetime(start_y, start_m, 1)).days\n",
    "    return days_in_month\n",
    "\n",
    "def convert_to_date(minutes):\n",
    "    days_since_epoch = (minutes - epoch_start_in_minutes) / 1440\n",
    "    target_date = epoch_start_date + timedelta(days=days_since_epoch)\n",
    "    return target_date.strftime('%Y-%m-%d')\n",
    "\n",
    "class Rudari_Glavne_Postaje:\n",
    "    def __init__(self, postaja: str, start: str, stop: str = None):\n",
    "        os.system(\"cls\")\n",
    "        print(f\"Pričenjam z rudarjenjem podatkov za {postaja}\")\n",
    "        self.base_data = json.load(open('info.json', encoding='utf-8'))\n",
    "        self.postaja = postaja\n",
    "        self.id = f\"{self.base_data[postaja]['ID'].replace('id=','_')}\"\n",
    "        self.df = {\"param\":None,\"data\":None}\n",
    "        self.data = {}\n",
    "        self.params = None\n",
    "        self.str_to_date = lambda x: datetime.strptime(x, '%Y-%m-%d')\n",
    "        self.check_start = self.str_to_date(self.base_data[postaja][\"start\"])\n",
    "        self.start = self.str_to_date(start)\n",
    "        \n",
    "        if self.start < self.check_start:\n",
    "            self.start = self.check_start\n",
    "            print(f\"Start date is before the first available date. Setting start date to {self.start}\")\n",
    "            \n",
    "        if stop != None:\n",
    "            self.stop = self.str_to_date(stop)\n",
    "        else:\n",
    "            self.stop = None\n",
    "        self.start_minning()\n",
    "        \n",
    "    def construct_url(self, postaja, od, do):\n",
    "        #print(\"Constructing URL\")\n",
    "        id = self.base_data[postaja][\"ID\"]\n",
    "        return self.base_data[\"baseurl\"] + f\"{id}&d1={od}&d2={do}\"\n",
    "\n",
    "    def parameter_names(self):\n",
    "        #print(\"Getting parameter names\")\n",
    "        p = self.data.get(\"o\", [])\n",
    "        return {key: self.data[\"params\"][key][\"l\"] for key in p}\n",
    "\n",
    "    def parse_content(self, content: str):\n",
    "        #print(\"Parsing content\")\n",
    "        root = ET.fromstring(content)\n",
    "        cdata_content = root.text\n",
    "        js_object_str = re.search(r'{.*}', cdata_content, re.DOTALL).group()\n",
    "        js_object_str = re.sub(r'(?<!\")(\\b\\w+\\b)(?!\"):', r'\"\\1\":', js_object_str)\n",
    "        try:\n",
    "            return json.loads(js_object_str)\n",
    "        except json.JSONDecodeError as e:\n",
    "            print(\"Error parsing JSON:\", e)\n",
    "            return {}\n",
    "\n",
    "    def parse_xml_from_link(self, link):\n",
    "        #print(\"Parsing XML from link\")\n",
    "        response = requests.get(link)\n",
    "        if response.encoding is not None:\n",
    "            content = response.content.decode('utf-8', errors='replace')\n",
    "        return self.parse_content(content)\n",
    "    \n",
    "    def start_minning(self):\n",
    "        init_year = self.check_start.year\n",
    "        init_month = self.check_start.month\n",
    "        \n",
    "        if self.stop != None:\n",
    "            final_year = self.stop.year\n",
    "            final_month = self.stop.month\n",
    "        else:\n",
    "            final_year = datetime.now().year\n",
    "            final_month = datetime.now().month\n",
    "        \n",
    "        year = self.start.year\n",
    "        for year in tqdm(range(self.start.year,final_year +1, 1),total = final_year - year + 1, desc = \"Leto\"):\n",
    "            yf = year\n",
    "            day_s = 1\n",
    "            day_f = 31\n",
    "            mf = 12\n",
    "            if yf > final_year:\n",
    "                yf = final_year\n",
    "                month = final_month-1\n",
    "                mf = month + 1\n",
    "                day_f =  get_days_in_month(yf, month)\n",
    "                    \n",
    "            od = f\"{year}-01-{day_s:02d}\"\n",
    "            do = f\"{yf}-{mf:02d}-{day_f:02d}\"\n",
    "            url = self.construct_url(self.postaja, od, do)\n",
    "            # clear_output(wait=True)\n",
    "            # print(f\"    - {self.postaja}: {od} -> {do} \",url)\n",
    "            if url is not None:\n",
    "                self.data = self.parse_xml_from_link(url)\n",
    "                meritve = self.data[\"points\"][self.id]\n",
    "                dan = len(meritve)\n",
    "                #print(dan,meritve)\n",
    "                self.params = self.parameter_names()\n",
    "                if self.df[\"data\"]==None:\n",
    "                    columns = [\"Datum\"] + list(self.params.values())\n",
    "                    self.df[\"data\"] = {col:[] for col in columns}\n",
    "                    self.df[\"param\"] = list(self.params.values())\n",
    "                \n",
    "                for i,key1 in enumerate(meritve):\n",
    "                    #print(key1)\n",
    "                    unix_time = convert_to_date(int(key1[1::]))\n",
    "                    #print(key1,int(key1[1::]),unix_time)\n",
    "                    self.df[\"data\"][\"Datum\"].append(unix_time)\n",
    "                    for key2 in self.params:\n",
    "                        value = meritve[key1].get(key2 , None)\n",
    "                        key = self.params[key2]\n",
    "                        self.df[\"data\"][key].append(value)\n",
    "                            #print(datum,key,key2,value)\n",
    "            #os.system(\"cls\")\n",
    "            #input(\"Nadaljuje\")\n",
    "        \n",
    "        path = os.path.join(\"zbrani_podatki\",\"json\",f\"{self.postaja}.json\")\n",
    "        with open(path, \"w\",encoding=\"utf-8\") as f:\n",
    "            json.dump(self.df, f, default=str, indent=4, ensure_ascii=False)\n",
    "        clear_output(wait=True)\n",
    "        #print(f\"Zadnji zajet datum za {self.postaja} je {do}\")\n",
    "        return None\n",
    "\n",
    "class Analiziriraj_postajo:\n",
    "    def __init__(self, postaja: str):\n",
    "        self.postaja = postaja\n",
    "        self.data = json.load(open(os.path.join(\"zbrani_podatki\",\"json\",f\"{postaja}.json\"), encoding='utf-8'))\n",
    "        self.df = pd.DataFrame(self.data[\"data\"])\n",
    "        self.df[\"Datum\"] = [datetime.strptime(x, '%d-%m-%Y') for x in self.df[\"Datum\"]]\n",
    "    \n",
    "    def analiza_padavin(self):\n",
    "        \n",
    "        print(\"Analiziram padavine\")\n",
    "        padavine = self.df[\"24-urna količina padavin ob 7 h (mm)\"]\n",
    "        \n"
   ]
  },
  {
   "cell_type": "code",
   "execution_count": 51,
   "metadata": {},
   "outputs": [
    {
     "name": "stdout",
     "output_type": "stream",
     "text": [
      "1 AJDOVŠČINA\n",
      "2 Babno Polje\n",
      "3 Bilje\n",
      "4 Bizeljsko\n",
      "5 Bohinjska Češnjica\n",
      "6 CELJE - LOKROVEC\n",
      "7 Črnomelj - Dobliče\n",
      "8 CELJE - ŽALEC\n",
      "9 KOPER\n",
      "10 Kredarica\n",
      "11 Lisca\n",
      "12 LJUBLJANA - AERODROM\n",
      "13 Ljubljana Bežigrad\n",
      "14 Maribor - letališče\n",
      "15 MARIBOR - TEZNO\n",
      "16 MURSKA SOBOTA - RAKIČAN\n",
      "17 NOVO MESTO - GOTNA VAS\n",
      "18 NOVO MESTO - KANDIJA\n",
      "19 POSTOJNA\n",
      "20 RATEČE\n",
      "21 ŠMARTNO PRI SLOV. GRADCU\n",
      "22 ZGORNJE JEZERSKO\n",
      "23 GODNJE\n",
      "24 Grosuplje\n",
      "25 IVANJKOVCI\n",
      "26 Kočevje\n",
      "27 Lendava\n",
      "28 METLIKA\n",
      "29 Nova vas (Bloke)\n",
      "30 Polički Vrh\n",
      "31 SLOVENSKE KONJICE\n",
      "32 STARŠE\n",
      "33 Vojsko (Idrija)\n"
     ]
    }
   ],
   "source": [
    "for i,ii in enumerate(base_data):\n",
    "    if i>0:\n",
    "        print(i,ii)"
   ]
  },
  {
   "cell_type": "code",
   "execution_count": 52,
   "metadata": {},
   "outputs": [
    {
     "name": "stdout",
     "output_type": "stream",
     "text": [
      "Pričenjam z rudarjenjem podatkov za AJDOVŠČINA\n"
     ]
    },
    {
     "data": {
      "application/vnd.jupyter.widget-view+json": {
       "model_id": "4efd229c49134975aafc6578206049b2",
       "version_major": 2,
       "version_minor": 0
      },
      "text/plain": [
       "Leto:   0%|          | 0/65 [00:00<?, ?it/s]"
      ]
     },
     "metadata": {},
     "output_type": "display_data"
    }
   ],
   "source": [
    "rudari = Rudari_Glavne_Postaje(\"AJDOVŠČINA\",\"1960-01-01\")"
   ]
  },
  {
   "cell_type": "code",
   "execution_count": 53,
   "metadata": {},
   "outputs": [],
   "source": [
    "def quality_check(postaja):\n",
    "    data = json.load(open(os.path.join(\"zbrani_podatki\",\"json\",f\"{postaja}.json\"), encoding='utf-8'))\n",
    "    df = pd.DataFrame(data[\"data\"])\n",
    "    N0 = len(df)\n",
    "    #Drop all data with None values\n",
    "    #df = df.dropna(axis=0, how='any')\n",
    "    df = df.dropna(subset=['povprečna temperatura zraka na 2 m (°C)'])\n",
    "    N1 = len(df)\n",
    "    print(f\"Pregled za postajo {postaja}:\")\n",
    "    print(\" - Prvi zabeležen dan:\",df[\"Datum\"].min())\n",
    "    print(\" - Zadnji zabeležen dan:\",df[\"Datum\"].max())\n",
    "    print(\" - Število vrstic pred čiščenjem:\",N0)\n",
    "    print(\" - Število vrstic po čiščenju:\",N1)\n",
    "    print(f\" - Odstranjeno je bilo {((N0-N1)/N0*100.0):.2f}% vrstic z manjkajočimi podatki\")\n",
    "    df.to_excel(os.path.join(\"zbrani_podatki\",\"excel\",f\"{postaja}.xlsx\"),index=False)\n",
    "    print()"
   ]
  },
  {
   "cell_type": "code",
   "execution_count": 54,
   "metadata": {},
   "outputs": [
    {
     "name": "stdout",
     "output_type": "stream",
     "text": [
      "Pregled za postajo Lendava:\n",
      " - Prvi zabeležen dan: 1962-01-17\n",
      " - Zadnji zabeležen dan: 2024-02-29\n",
      " - Število vrstic pred čiščenjem: 23376\n",
      " - Število vrstic po čiščenju: 22687\n",
      " - Odstranjeno je bilo 2.95% vrstic z manjkajočimi podatki\n"
     ]
    },
    {
     "ename": "SerialisationError",
     "evalue": "IO_WRITE",
     "output_type": "error",
     "traceback": [
      "\u001b[1;31m---------------------------------------------------------------------------\u001b[0m",
      "\u001b[1;31mSerialisationError\u001b[0m                        Traceback (most recent call last)",
      "Input \u001b[1;32mIn [54]\u001b[0m, in \u001b[0;36m<cell line: 1>\u001b[1;34m()\u001b[0m\n\u001b[0;32m      2\u001b[0m \u001b[38;5;28;01mif\u001b[39;00m i\u001b[38;5;241m>\u001b[39m\u001b[38;5;241m0\u001b[39m:\n\u001b[0;32m      3\u001b[0m     rudari \u001b[38;5;241m=\u001b[39m Rudari_Glavne_Postaje(merilna_postaja,\u001b[38;5;124m\"\u001b[39m\u001b[38;5;124m1961-01-01\u001b[39m\u001b[38;5;124m\"\u001b[39m)\n\u001b[1;32m----> 4\u001b[0m     \u001b[43mquality_check\u001b[49m\u001b[43m(\u001b[49m\u001b[43mmerilna_postaja\u001b[49m\u001b[43m)\u001b[49m\n",
      "Input \u001b[1;32mIn [53]\u001b[0m, in \u001b[0;36mquality_check\u001b[1;34m(postaja)\u001b[0m\n\u001b[0;32m     13\u001b[0m \u001b[38;5;28mprint\u001b[39m(\u001b[38;5;124m\"\u001b[39m\u001b[38;5;124m - Število vrstic po čiščenju:\u001b[39m\u001b[38;5;124m\"\u001b[39m,N1)\n\u001b[0;32m     14\u001b[0m \u001b[38;5;28mprint\u001b[39m(\u001b[38;5;124mf\u001b[39m\u001b[38;5;124m\"\u001b[39m\u001b[38;5;124m - Odstranjeno je bilo \u001b[39m\u001b[38;5;132;01m{\u001b[39;00m((N0\u001b[38;5;241m-\u001b[39mN1)\u001b[38;5;241m/\u001b[39mN0\u001b[38;5;241m*\u001b[39m\u001b[38;5;241m100.0\u001b[39m)\u001b[38;5;132;01m:\u001b[39;00m\u001b[38;5;124m.2f\u001b[39m\u001b[38;5;132;01m}\u001b[39;00m\u001b[38;5;124m% vrstic z manjkajočimi podatki\u001b[39m\u001b[38;5;124m\"\u001b[39m)\n\u001b[1;32m---> 15\u001b[0m \u001b[43mdf\u001b[49m\u001b[38;5;241;43m.\u001b[39;49m\u001b[43mto_excel\u001b[49m\u001b[43m(\u001b[49m\u001b[43mos\u001b[49m\u001b[38;5;241;43m.\u001b[39;49m\u001b[43mpath\u001b[49m\u001b[38;5;241;43m.\u001b[39;49m\u001b[43mjoin\u001b[49m\u001b[43m(\u001b[49m\u001b[38;5;124;43m\"\u001b[39;49m\u001b[38;5;124;43mzbrani_podatki\u001b[39;49m\u001b[38;5;124;43m\"\u001b[39;49m\u001b[43m,\u001b[49m\u001b[38;5;124;43m\"\u001b[39;49m\u001b[38;5;124;43mexcel\u001b[39;49m\u001b[38;5;124;43m\"\u001b[39;49m\u001b[43m,\u001b[49m\u001b[38;5;124;43mf\u001b[39;49m\u001b[38;5;124;43m\"\u001b[39;49m\u001b[38;5;132;43;01m{\u001b[39;49;00m\u001b[43mpostaja\u001b[49m\u001b[38;5;132;43;01m}\u001b[39;49;00m\u001b[38;5;124;43m.xlsx\u001b[39;49m\u001b[38;5;124;43m\"\u001b[39;49m\u001b[43m)\u001b[49m\u001b[43m,\u001b[49m\u001b[43mindex\u001b[49m\u001b[38;5;241;43m=\u001b[39;49m\u001b[38;5;28;43;01mFalse\u001b[39;49;00m\u001b[43m)\u001b[49m\n\u001b[0;32m     16\u001b[0m \u001b[38;5;28mprint\u001b[39m()\n",
      "File \u001b[1;32m~\\AppData\\Roaming\\Python\\Python310\\site-packages\\pandas\\core\\generic.py:2345\u001b[0m, in \u001b[0;36mNDFrame.to_excel\u001b[1;34m(self, excel_writer, sheet_name, na_rep, float_format, columns, header, index, index_label, startrow, startcol, engine, merge_cells, inf_rep, freeze_panes, storage_options, engine_kwargs)\u001b[0m\n\u001b[0;32m   2332\u001b[0m \u001b[38;5;28;01mfrom\u001b[39;00m \u001b[38;5;21;01mpandas\u001b[39;00m\u001b[38;5;21;01m.\u001b[39;00m\u001b[38;5;21;01mio\u001b[39;00m\u001b[38;5;21;01m.\u001b[39;00m\u001b[38;5;21;01mformats\u001b[39;00m\u001b[38;5;21;01m.\u001b[39;00m\u001b[38;5;21;01mexcel\u001b[39;00m \u001b[38;5;28;01mimport\u001b[39;00m ExcelFormatter\n\u001b[0;32m   2334\u001b[0m formatter \u001b[38;5;241m=\u001b[39m ExcelFormatter(\n\u001b[0;32m   2335\u001b[0m     df,\n\u001b[0;32m   2336\u001b[0m     na_rep\u001b[38;5;241m=\u001b[39mna_rep,\n\u001b[1;32m   (...)\u001b[0m\n\u001b[0;32m   2343\u001b[0m     inf_rep\u001b[38;5;241m=\u001b[39minf_rep,\n\u001b[0;32m   2344\u001b[0m )\n\u001b[1;32m-> 2345\u001b[0m \u001b[43mformatter\u001b[49m\u001b[38;5;241;43m.\u001b[39;49m\u001b[43mwrite\u001b[49m\u001b[43m(\u001b[49m\n\u001b[0;32m   2346\u001b[0m \u001b[43m    \u001b[49m\u001b[43mexcel_writer\u001b[49m\u001b[43m,\u001b[49m\n\u001b[0;32m   2347\u001b[0m \u001b[43m    \u001b[49m\u001b[43msheet_name\u001b[49m\u001b[38;5;241;43m=\u001b[39;49m\u001b[43msheet_name\u001b[49m\u001b[43m,\u001b[49m\n\u001b[0;32m   2348\u001b[0m \u001b[43m    \u001b[49m\u001b[43mstartrow\u001b[49m\u001b[38;5;241;43m=\u001b[39;49m\u001b[43mstartrow\u001b[49m\u001b[43m,\u001b[49m\n\u001b[0;32m   2349\u001b[0m \u001b[43m    \u001b[49m\u001b[43mstartcol\u001b[49m\u001b[38;5;241;43m=\u001b[39;49m\u001b[43mstartcol\u001b[49m\u001b[43m,\u001b[49m\n\u001b[0;32m   2350\u001b[0m \u001b[43m    \u001b[49m\u001b[43mfreeze_panes\u001b[49m\u001b[38;5;241;43m=\u001b[39;49m\u001b[43mfreeze_panes\u001b[49m\u001b[43m,\u001b[49m\n\u001b[0;32m   2351\u001b[0m \u001b[43m    \u001b[49m\u001b[43mengine\u001b[49m\u001b[38;5;241;43m=\u001b[39;49m\u001b[43mengine\u001b[49m\u001b[43m,\u001b[49m\n\u001b[0;32m   2352\u001b[0m \u001b[43m    \u001b[49m\u001b[43mstorage_options\u001b[49m\u001b[38;5;241;43m=\u001b[39;49m\u001b[43mstorage_options\u001b[49m\u001b[43m,\u001b[49m\n\u001b[0;32m   2353\u001b[0m \u001b[43m    \u001b[49m\u001b[43mengine_kwargs\u001b[49m\u001b[38;5;241;43m=\u001b[39;49m\u001b[43mengine_kwargs\u001b[49m\u001b[43m,\u001b[49m\n\u001b[0;32m   2354\u001b[0m \u001b[43m\u001b[49m\u001b[43m)\u001b[49m\n",
      "File \u001b[1;32m~\\AppData\\Roaming\\Python\\Python310\\site-packages\\pandas\\io\\formats\\excel.py:965\u001b[0m, in \u001b[0;36mExcelFormatter.write\u001b[1;34m(self, writer, sheet_name, startrow, startcol, freeze_panes, engine, storage_options, engine_kwargs)\u001b[0m\n\u001b[0;32m    962\u001b[0m \u001b[38;5;28;01mfinally\u001b[39;00m:\n\u001b[0;32m    963\u001b[0m     \u001b[38;5;66;03m# make sure to close opened file handles\u001b[39;00m\n\u001b[0;32m    964\u001b[0m     \u001b[38;5;28;01mif\u001b[39;00m need_save:\n\u001b[1;32m--> 965\u001b[0m         \u001b[43mwriter\u001b[49m\u001b[38;5;241;43m.\u001b[39;49m\u001b[43mclose\u001b[49m\u001b[43m(\u001b[49m\u001b[43m)\u001b[49m\n",
      "File \u001b[1;32m~\\AppData\\Roaming\\Python\\Python310\\site-packages\\pandas\\io\\excel\\_base.py:1374\u001b[0m, in \u001b[0;36mExcelWriter.close\u001b[1;34m(self)\u001b[0m\n\u001b[0;32m   1372\u001b[0m \u001b[38;5;28;01mdef\u001b[39;00m \u001b[38;5;21mclose\u001b[39m(\u001b[38;5;28mself\u001b[39m) \u001b[38;5;241m-\u001b[39m\u001b[38;5;241m>\u001b[39m \u001b[38;5;28;01mNone\u001b[39;00m:\n\u001b[0;32m   1373\u001b[0m \u001b[38;5;250m    \u001b[39m\u001b[38;5;124;03m\"\"\"synonym for save, to make it more file-like\"\"\"\u001b[39;00m\n\u001b[1;32m-> 1374\u001b[0m     \u001b[38;5;28;43mself\u001b[39;49m\u001b[38;5;241;43m.\u001b[39;49m\u001b[43m_save\u001b[49m\u001b[43m(\u001b[49m\u001b[43m)\u001b[49m\n\u001b[0;32m   1375\u001b[0m     \u001b[38;5;28mself\u001b[39m\u001b[38;5;241m.\u001b[39m_handles\u001b[38;5;241m.\u001b[39mclose()\n",
      "File \u001b[1;32m~\\AppData\\Roaming\\Python\\Python310\\site-packages\\pandas\\io\\excel\\_openpyxl.py:110\u001b[0m, in \u001b[0;36mOpenpyxlWriter._save\u001b[1;34m(self)\u001b[0m\n\u001b[0;32m    106\u001b[0m \u001b[38;5;28;01mdef\u001b[39;00m \u001b[38;5;21m_save\u001b[39m(\u001b[38;5;28mself\u001b[39m) \u001b[38;5;241m-\u001b[39m\u001b[38;5;241m>\u001b[39m \u001b[38;5;28;01mNone\u001b[39;00m:\n\u001b[0;32m    107\u001b[0m \u001b[38;5;250m    \u001b[39m\u001b[38;5;124;03m\"\"\"\u001b[39;00m\n\u001b[0;32m    108\u001b[0m \u001b[38;5;124;03m    Save workbook to disk.\u001b[39;00m\n\u001b[0;32m    109\u001b[0m \u001b[38;5;124;03m    \"\"\"\u001b[39;00m\n\u001b[1;32m--> 110\u001b[0m     \u001b[38;5;28;43mself\u001b[39;49m\u001b[38;5;241;43m.\u001b[39;49m\u001b[43mbook\u001b[49m\u001b[38;5;241;43m.\u001b[39;49m\u001b[43msave\u001b[49m\u001b[43m(\u001b[49m\u001b[38;5;28;43mself\u001b[39;49m\u001b[38;5;241;43m.\u001b[39;49m\u001b[43m_handles\u001b[49m\u001b[38;5;241;43m.\u001b[39;49m\u001b[43mhandle\u001b[49m\u001b[43m)\u001b[49m\n\u001b[0;32m    111\u001b[0m     \u001b[38;5;28;01mif\u001b[39;00m \u001b[38;5;124m\"\u001b[39m\u001b[38;5;124mr+\u001b[39m\u001b[38;5;124m\"\u001b[39m \u001b[38;5;129;01min\u001b[39;00m \u001b[38;5;28mself\u001b[39m\u001b[38;5;241m.\u001b[39m_mode \u001b[38;5;129;01mand\u001b[39;00m \u001b[38;5;129;01mnot\u001b[39;00m \u001b[38;5;28misinstance\u001b[39m(\u001b[38;5;28mself\u001b[39m\u001b[38;5;241m.\u001b[39m_handles\u001b[38;5;241m.\u001b[39mhandle, mmap\u001b[38;5;241m.\u001b[39mmmap):\n\u001b[0;32m    112\u001b[0m         \u001b[38;5;66;03m# truncate file to the written content\u001b[39;00m\n\u001b[0;32m    113\u001b[0m         \u001b[38;5;28mself\u001b[39m\u001b[38;5;241m.\u001b[39m_handles\u001b[38;5;241m.\u001b[39mhandle\u001b[38;5;241m.\u001b[39mtruncate()\n",
      "File \u001b[1;32mc:\\Python310\\lib\\site-packages\\openpyxl\\workbook\\workbook.py:386\u001b[0m, in \u001b[0;36mWorkbook.save\u001b[1;34m(self, filename)\u001b[0m\n\u001b[0;32m    384\u001b[0m \u001b[38;5;28;01mif\u001b[39;00m \u001b[38;5;28mself\u001b[39m\u001b[38;5;241m.\u001b[39mwrite_only \u001b[38;5;129;01mand\u001b[39;00m \u001b[38;5;129;01mnot\u001b[39;00m \u001b[38;5;28mself\u001b[39m\u001b[38;5;241m.\u001b[39mworksheets:\n\u001b[0;32m    385\u001b[0m     \u001b[38;5;28mself\u001b[39m\u001b[38;5;241m.\u001b[39mcreate_sheet()\n\u001b[1;32m--> 386\u001b[0m \u001b[43msave_workbook\u001b[49m\u001b[43m(\u001b[49m\u001b[38;5;28;43mself\u001b[39;49m\u001b[43m,\u001b[49m\u001b[43m \u001b[49m\u001b[43mfilename\u001b[49m\u001b[43m)\u001b[49m\n",
      "File \u001b[1;32mc:\\Python310\\lib\\site-packages\\openpyxl\\writer\\excel.py:294\u001b[0m, in \u001b[0;36msave_workbook\u001b[1;34m(workbook, filename)\u001b[0m\n\u001b[0;32m    292\u001b[0m workbook\u001b[38;5;241m.\u001b[39mproperties\u001b[38;5;241m.\u001b[39mmodified \u001b[38;5;241m=\u001b[39m datetime\u001b[38;5;241m.\u001b[39mdatetime\u001b[38;5;241m.\u001b[39mutcnow()\n\u001b[0;32m    293\u001b[0m writer \u001b[38;5;241m=\u001b[39m ExcelWriter(workbook, archive)\n\u001b[1;32m--> 294\u001b[0m \u001b[43mwriter\u001b[49m\u001b[38;5;241;43m.\u001b[39;49m\u001b[43msave\u001b[49m\u001b[43m(\u001b[49m\u001b[43m)\u001b[49m\n\u001b[0;32m    295\u001b[0m \u001b[38;5;28;01mreturn\u001b[39;00m \u001b[38;5;28;01mTrue\u001b[39;00m\n",
      "File \u001b[1;32mc:\\Python310\\lib\\site-packages\\openpyxl\\writer\\excel.py:275\u001b[0m, in \u001b[0;36mExcelWriter.save\u001b[1;34m(self)\u001b[0m\n\u001b[0;32m    273\u001b[0m \u001b[38;5;28;01mdef\u001b[39;00m \u001b[38;5;21msave\u001b[39m(\u001b[38;5;28mself\u001b[39m):\n\u001b[0;32m    274\u001b[0m \u001b[38;5;250m    \u001b[39m\u001b[38;5;124;03m\"\"\"Write data into the archive.\"\"\"\u001b[39;00m\n\u001b[1;32m--> 275\u001b[0m     \u001b[38;5;28;43mself\u001b[39;49m\u001b[38;5;241;43m.\u001b[39;49m\u001b[43mwrite_data\u001b[49m\u001b[43m(\u001b[49m\u001b[43m)\u001b[49m\n\u001b[0;32m    276\u001b[0m     \u001b[38;5;28mself\u001b[39m\u001b[38;5;241m.\u001b[39m_archive\u001b[38;5;241m.\u001b[39mclose()\n",
      "File \u001b[1;32mc:\\Python310\\lib\\site-packages\\openpyxl\\writer\\excel.py:77\u001b[0m, in \u001b[0;36mExcelWriter.write_data\u001b[1;34m(self)\u001b[0m\n\u001b[0;32m     74\u001b[0m     custom_override \u001b[38;5;241m=\u001b[39m CustomOverride()\n\u001b[0;32m     75\u001b[0m     \u001b[38;5;28mself\u001b[39m\u001b[38;5;241m.\u001b[39mmanifest\u001b[38;5;241m.\u001b[39mappend(custom_override)\n\u001b[1;32m---> 77\u001b[0m \u001b[38;5;28;43mself\u001b[39;49m\u001b[38;5;241;43m.\u001b[39;49m\u001b[43m_write_worksheets\u001b[49m\u001b[43m(\u001b[49m\u001b[43m)\u001b[49m\n\u001b[0;32m     78\u001b[0m \u001b[38;5;28mself\u001b[39m\u001b[38;5;241m.\u001b[39m_write_chartsheets()\n\u001b[0;32m     79\u001b[0m \u001b[38;5;28mself\u001b[39m\u001b[38;5;241m.\u001b[39m_write_images()\n",
      "File \u001b[1;32mc:\\Python310\\lib\\site-packages\\openpyxl\\writer\\excel.py:215\u001b[0m, in \u001b[0;36mExcelWriter._write_worksheets\u001b[1;34m(self)\u001b[0m\n\u001b[0;32m    212\u001b[0m \u001b[38;5;28;01mfor\u001b[39;00m idx, ws \u001b[38;5;129;01min\u001b[39;00m \u001b[38;5;28menumerate\u001b[39m(\u001b[38;5;28mself\u001b[39m\u001b[38;5;241m.\u001b[39mworkbook\u001b[38;5;241m.\u001b[39mworksheets, \u001b[38;5;241m1\u001b[39m):\n\u001b[0;32m    214\u001b[0m     ws\u001b[38;5;241m.\u001b[39m_id \u001b[38;5;241m=\u001b[39m idx\n\u001b[1;32m--> 215\u001b[0m     \u001b[38;5;28;43mself\u001b[39;49m\u001b[38;5;241;43m.\u001b[39;49m\u001b[43mwrite_worksheet\u001b[49m\u001b[43m(\u001b[49m\u001b[43mws\u001b[49m\u001b[43m)\u001b[49m\n\u001b[0;32m    217\u001b[0m     \u001b[38;5;28;01mif\u001b[39;00m ws\u001b[38;5;241m.\u001b[39m_drawing:\n\u001b[0;32m    218\u001b[0m         \u001b[38;5;28mself\u001b[39m\u001b[38;5;241m.\u001b[39m_write_drawing(ws\u001b[38;5;241m.\u001b[39m_drawing)\n",
      "File \u001b[1;32mc:\\Python310\\lib\\site-packages\\openpyxl\\writer\\excel.py:200\u001b[0m, in \u001b[0;36mExcelWriter.write_worksheet\u001b[1;34m(self, ws)\u001b[0m\n\u001b[0;32m    198\u001b[0m \u001b[38;5;28;01melse\u001b[39;00m:\n\u001b[0;32m    199\u001b[0m     writer \u001b[38;5;241m=\u001b[39m WorksheetWriter(ws)\n\u001b[1;32m--> 200\u001b[0m     \u001b[43mwriter\u001b[49m\u001b[38;5;241;43m.\u001b[39;49m\u001b[43mwrite\u001b[49m\u001b[43m(\u001b[49m\u001b[43m)\u001b[49m\n\u001b[0;32m    202\u001b[0m ws\u001b[38;5;241m.\u001b[39m_rels \u001b[38;5;241m=\u001b[39m writer\u001b[38;5;241m.\u001b[39m_rels\n\u001b[0;32m    203\u001b[0m \u001b[38;5;28mself\u001b[39m\u001b[38;5;241m.\u001b[39m_archive\u001b[38;5;241m.\u001b[39mwrite(writer\u001b[38;5;241m.\u001b[39mout, ws\u001b[38;5;241m.\u001b[39mpath[\u001b[38;5;241m1\u001b[39m:])\n",
      "File \u001b[1;32mc:\\Python310\\lib\\site-packages\\openpyxl\\worksheet\\_writer.py:359\u001b[0m, in \u001b[0;36mWorksheetWriter.write\u001b[1;34m(self)\u001b[0m\n\u001b[0;32m    355\u001b[0m \u001b[38;5;250m\u001b[39m\u001b[38;5;124;03m\"\"\"\u001b[39;00m\n\u001b[0;32m    356\u001b[0m \u001b[38;5;124;03mHigh level\u001b[39;00m\n\u001b[0;32m    357\u001b[0m \u001b[38;5;124;03m\"\"\"\u001b[39;00m\n\u001b[0;32m    358\u001b[0m \u001b[38;5;28mself\u001b[39m\u001b[38;5;241m.\u001b[39mwrite_top()\n\u001b[1;32m--> 359\u001b[0m \u001b[38;5;28;43mself\u001b[39;49m\u001b[38;5;241;43m.\u001b[39;49m\u001b[43mwrite_rows\u001b[49m\u001b[43m(\u001b[49m\u001b[43m)\u001b[49m\n\u001b[0;32m    360\u001b[0m \u001b[38;5;28mself\u001b[39m\u001b[38;5;241m.\u001b[39mwrite_tail()\n\u001b[0;32m    361\u001b[0m \u001b[38;5;28mself\u001b[39m\u001b[38;5;241m.\u001b[39mclose()\n",
      "File \u001b[1;32mc:\\Python310\\lib\\site-packages\\openpyxl\\worksheet\\_writer.py:125\u001b[0m, in \u001b[0;36mWorksheetWriter.write_rows\u001b[1;34m(self)\u001b[0m\n\u001b[0;32m    123\u001b[0m \u001b[38;5;28;01mwith\u001b[39;00m xf\u001b[38;5;241m.\u001b[39melement(\u001b[38;5;124m\"\u001b[39m\u001b[38;5;124msheetData\u001b[39m\u001b[38;5;124m\"\u001b[39m):\n\u001b[0;32m    124\u001b[0m     \u001b[38;5;28;01mfor\u001b[39;00m row_idx, row \u001b[38;5;129;01min\u001b[39;00m \u001b[38;5;28mself\u001b[39m\u001b[38;5;241m.\u001b[39mrows():\n\u001b[1;32m--> 125\u001b[0m         \u001b[38;5;28;43mself\u001b[39;49m\u001b[38;5;241;43m.\u001b[39;49m\u001b[43mwrite_row\u001b[49m\u001b[43m(\u001b[49m\u001b[43mxf\u001b[49m\u001b[43m,\u001b[49m\u001b[43m \u001b[49m\u001b[43mrow\u001b[49m\u001b[43m,\u001b[49m\u001b[43m \u001b[49m\u001b[43mrow_idx\u001b[49m\u001b[43m)\u001b[49m\n\u001b[0;32m    127\u001b[0m \u001b[38;5;28mself\u001b[39m\u001b[38;5;241m.\u001b[39mxf\u001b[38;5;241m.\u001b[39msend(\u001b[38;5;28;01mNone\u001b[39;00m)\n",
      "File \u001b[1;32mc:\\Python310\\lib\\site-packages\\openpyxl\\worksheet\\_writer.py:147\u001b[0m, in \u001b[0;36mWorksheetWriter.write_row\u001b[1;34m(self, xf, row, row_idx)\u001b[0m\n\u001b[0;32m    141\u001b[0m \u001b[38;5;28;01mif\u001b[39;00m (\n\u001b[0;32m    142\u001b[0m     cell\u001b[38;5;241m.\u001b[39m_value \u001b[38;5;129;01mis\u001b[39;00m \u001b[38;5;28;01mNone\u001b[39;00m\n\u001b[0;32m    143\u001b[0m     \u001b[38;5;129;01mand\u001b[39;00m \u001b[38;5;129;01mnot\u001b[39;00m cell\u001b[38;5;241m.\u001b[39mhas_style\n\u001b[0;32m    144\u001b[0m     \u001b[38;5;129;01mand\u001b[39;00m \u001b[38;5;129;01mnot\u001b[39;00m cell\u001b[38;5;241m.\u001b[39m_comment\n\u001b[0;32m    145\u001b[0m     ):\n\u001b[0;32m    146\u001b[0m     \u001b[38;5;28;01mcontinue\u001b[39;00m\n\u001b[1;32m--> 147\u001b[0m \u001b[43mwrite_cell\u001b[49m\u001b[43m(\u001b[49m\u001b[43mxf\u001b[49m\u001b[43m,\u001b[49m\u001b[43m \u001b[49m\u001b[38;5;28;43mself\u001b[39;49m\u001b[38;5;241;43m.\u001b[39;49m\u001b[43mws\u001b[49m\u001b[43m,\u001b[49m\u001b[43m \u001b[49m\u001b[43mcell\u001b[49m\u001b[43m,\u001b[49m\u001b[43m \u001b[49m\u001b[43mcell\u001b[49m\u001b[38;5;241;43m.\u001b[39;49m\u001b[43mhas_style\u001b[49m\u001b[43m)\u001b[49m\n",
      "File \u001b[1;32mc:\\Python310\\lib\\site-packages\\openpyxl\\cell\\_writer.py:131\u001b[0m, in \u001b[0;36mlxml_write_cell\u001b[1;34m(xf, worksheet, cell, styled)\u001b[0m\n\u001b[0;32m    129\u001b[0m     el \u001b[38;5;241m=\u001b[39m Element(\u001b[38;5;124m\"\u001b[39m\u001b[38;5;124mt\u001b[39m\u001b[38;5;124m\"\u001b[39m, attrs) \u001b[38;5;66;03m# lxml can't handle xml-ns\u001b[39;00m\n\u001b[0;32m    130\u001b[0m     el\u001b[38;5;241m.\u001b[39mtext \u001b[38;5;241m=\u001b[39m value\n\u001b[1;32m--> 131\u001b[0m     \u001b[43mxf\u001b[49m\u001b[38;5;241;43m.\u001b[39;49m\u001b[43mwrite\u001b[49m\u001b[43m(\u001b[49m\u001b[43mel\u001b[49m\u001b[43m)\u001b[49m\n\u001b[0;32m    132\u001b[0m     \u001b[38;5;66;03m#with xf.element(\"t\", attrs):\u001b[39;00m\n\u001b[0;32m    133\u001b[0m         \u001b[38;5;66;03m#xf.write(value)\u001b[39;00m\n\u001b[0;32m    134\u001b[0m \u001b[38;5;28;01melse\u001b[39;00m:\n\u001b[0;32m    135\u001b[0m     \u001b[38;5;28;01mfor\u001b[39;00m r \u001b[38;5;129;01min\u001b[39;00m value:\n",
      "File \u001b[1;32msrc\\\\lxml\\\\serializer.pxi:1662\u001b[0m, in \u001b[0;36mlxml.etree._IncrementalFileWriter.write\u001b[1;34m()\u001b[0m\n",
      "File \u001b[1;32msrc\\\\lxml\\\\serializer.pxi:1699\u001b[0m, in \u001b[0;36mlxml.etree._IncrementalFileWriter._handle_error\u001b[1;34m()\u001b[0m\n",
      "File \u001b[1;32msrc\\\\lxml\\\\serializer.pxi:198\u001b[0m, in \u001b[0;36mlxml.etree._raiseSerialisationError\u001b[1;34m()\u001b[0m\n",
      "\u001b[1;31mSerialisationError\u001b[0m: IO_WRITE"
     ]
    }
   ],
   "source": [
    "pridobi = False\n",
    "for i,merilna_postaja in enumerate(base_data):\n",
    "    if i>0:\n",
    "        if merilna_postaja==\"METLIKA\":\n",
    "            pridobi = True\n",
    "        rudari = Rudari_Glavne_Postaje(merilna_postaja,\"1961-01-01\")\n",
    "        quality_check(merilna_postaja)"
   ]
  },
  {
   "cell_type": "code",
   "execution_count": 41,
   "metadata": {},
   "outputs": [
    {
     "name": "stdout",
     "output_type": "stream",
     "text": [
      "AJDOVŠČINA\n",
      "Odstranjeno je bilo 100.00% vrstic z manjkajočimi podatki\n",
      "\n",
      "CELJE - LOKROVEC\n",
      "Odstranjeno je bilo 100.00% vrstic z manjkajočimi podatki\n",
      "\n",
      "CELJE - ŽALEC\n",
      "Odstranjeno je bilo 100.00% vrstic z manjkajočimi podatki\n",
      "\n",
      "KOPER\n",
      "Odstranjeno je bilo 78.88% vrstic z manjkajočimi podatki\n",
      "\n",
      "Kredarica\n",
      "Odstranjeno je bilo 100.00% vrstic z manjkajočimi podatki\n",
      "\n",
      "LJUBLJANA - AERODROM\n",
      "Odstranjeno je bilo 100.00% vrstic z manjkajočimi podatki\n",
      "\n",
      "Ljubljana Bežigrad\n",
      "Odstranjeno je bilo 0.10% vrstic z manjkajočimi podatki\n",
      "\n",
      "MARIBOR - TEZNO\n",
      "Odstranjeno je bilo 97.73% vrstic z manjkajočimi podatki\n",
      "\n",
      "MURSKA SOBOTA - RAKIČAN\n",
      "Odstranjeno je bilo 83.81% vrstic z manjkajočimi podatki\n",
      "\n",
      "NOVO MESTO - GOTNA VAS\n",
      "Odstranjeno je bilo 81.49% vrstic z manjkajočimi podatki\n",
      "\n",
      "NOVO MESTO - KANDIJA\n",
      "Odstranjeno je bilo 100.00% vrstic z manjkajočimi podatki\n",
      "\n",
      "POSTOJNA\n",
      "Odstranjeno je bilo 99.63% vrstic z manjkajočimi podatki\n",
      "\n",
      "RATEČE\n",
      "Odstranjeno je bilo 28.47% vrstic z manjkajočimi podatki\n",
      "\n",
      "ŠMARTNO PRI SLOV. GRADCU\n",
      "Odstranjeno je bilo 100.00% vrstic z manjkajočimi podatki\n",
      "\n",
      "ZGORNJE JEZERSKO\n",
      "Odstranjeno je bilo 100.00% vrstic z manjkajočimi podatki\n",
      "\n"
     ]
    }
   ],
   "source": [
    "for i,merilna_postaja in enumerate(rudari.base_data):\n",
    "    if i>0:\n",
    "        print(merilna_postaja)\n",
    "        quality_check(merilna_postaja)\n",
    "        print()"
   ]
  },
  {
   "cell_type": "code",
   "execution_count": 5,
   "metadata": {},
   "outputs": [
    {
     "name": "stdout",
     "output_type": "stream",
     "text": [
      "id=1061 1961-01-01 1961-02-01\n",
      "https://meteo.arso.gov.si/webmet/archive/data.xml?lang=si&vars=35,56,38,57,36,58,37,59,43,60,46,61,40,62,33,63,85,65,88,66,89,67,41,68,80,69,81,70,47,71,48,72,49,74,50,75,51,77,52,78,53,83,54,82,55&group=dailyData2&type=daily&id=1061&d1=1961-01-01&d2=1961-02-01\n",
      "{ \"baseurl\":\"./icons/\", \"gen\":\"ACADEMA.AEP.getGenerators('archive').genTerminData('yyyy-MM-dd')\", \"datatype\":\"daily\", \"o\":[ \"p0\" , \"p1\" , \"p2\" , \"p3\" , \"p4\" , \"p5\" , \"p6\" , \"p7\" , \"p8\" , \"p9\" , \"p10\" , \"p11\" , \"p12\" , \"p13\" , \"p14\" , \"p15\" , \"p16\" , \"p17\" , \"p18\" , \"p19\" , \"p20\" , \"p21\" , \"p22\" , \"p23\" , \"p24\" , \"p25\" , \"p26\" , \"p27\" , \"p28\" , \"p29\" , \"p30\" , \"p31\" , \"p32\" , \"p33\" , \"p34\" , \"p35\" , \"p36\" , \"p37\" , \"p38\" , \"p39\" , \"p40\" , \"p41\" , \"p42\" , \"p43\" , \"p44\" ], \"params\":{\"p0\":{ \"pid\":\"35\", \"name\":\"t2m_klima\", \"s\":\"povp. dnevna T\", \"l\":\"povprečna temperatura zraka na 2 m (°C)\", \"unit\":\"°C\"},\"p1\":{ \"pid\":\"38\", \"name\":\"tmax\", \"s\":\"max. T\", \"l\":\"maksimalna temperatura zraka na 2 m (°C)\", \"unit\":\"°C\"},\"p2\":{ \"pid\":\"36\", \"name\":\"tmin\", \"s\":\"min. T\", \"l\":\"minimalna temperatura zraka na 2 m (°C)\", \"unit\":\"°C\"},\"p3\":{ \"pid\":\"37\", \"name\":\"tmin_5cm\", \"s\":\"min. T na 5cm\", \"l\":\"minimalna temperatura zraka na 5cm (°C)\", \"unit\":\"°C\"},\"p4\":{ \"pid\":\"43\", \"name\":\"veter_klima\", \"s\":\"povp. veter\", \"l\":\"povprečna hitrost vetra (m/s)\", \"unit\":\"m/s\"},\"p5\":{ \"pid\":\"46\", \"name\":\"oblacnost\", \"s\":\"oblačnost\", \"l\":\"povprečna oblačnost (pokritost neba v %)\", \"unit\":\"%\"},\"p6\":{ \"pid\":\"40\", \"name\":\"rh_klima\", \"s\":\"povp. rel. vla.\", \"l\":\"povprečna relativna vlaga (%)\", \"unit\":\"%\"},\"p7\":{ \"pid\":\"33\", \"name\":\"p_klima\", \"s\":\"povp. tlak\", \"l\":\"povprečen zračni tlak (hPa)\", \"unit\":\"hPa\"},\"p8\":{ \"pid\":\"85\", \"name\":\"padavine_klima\", \"s\":\"količina padavin\", \"l\":\"24-urna količina padavin ob 7 h (mm)\", \"unit\":\"mm\"},\"p9\":{ \"pid\":\"88\", \"name\":\"sneg_skupni\", \"s\":\"višina snežne odeje\", \"l\":\"skupna višina snežne odeje (cm)\", \"unit\":\"cm\"},\"p10\":{ \"pid\":\"89\", \"name\":\"sneg_novi\", \"s\":\"višina novega snega\", \"l\":\"višina novozapadlega snega (cm)\", \"unit\":\"cm\"},\"p11\":{ \"pid\":\"41\", \"name\":\"trajanje_so\", \"s\":\"trajanje sonca\", \"l\":\"trajanje sončnega obsevanja (h)\", \"unit\":\"h\"},\"p12\":{ \"pid\":\"80\", \"name\":\"mocan_veter_6bf\", \"s\":\"močan veter\", \"l\":\"močan veter (> 6bf)\", \"unit\":\"\"},\"p13\":{ \"pid\":\"81\", \"name\":\"mocan_veter_8bf\", \"s\":\"viharni veter\", \"l\":\"viharni veter (> 8bf)\", \"unit\":\"\"},\"p14\":{ \"pid\":\"47\", \"name\":\"dez\", \"s\":\"dež\", \"l\":\"dež\", \"unit\":\"\"},\"p15\":{ \"pid\":\"48\", \"name\":\"rosenje\", \"s\":\"rosenje\", \"l\":\"rosenje\", \"unit\":\"\"},\"p16\":{ \"pid\":\"49\", \"name\":\"ploha_dezja\", \"s\":\"ploha dežja\", \"l\":\"ploha dežja\", \"unit\":\"\"},\"p17\":{ \"pid\":\"50\", \"name\":\"nevihta\", \"s\":\"nevihta\", \"l\":\"nevihta\", \"unit\":\"\"},\"p18\":{ \"pid\":\"51\", \"name\":\"grmenje\", \"s\":\"grmenje\", \"l\":\"grmenje\", \"unit\":\"\"},\"p19\":{ \"pid\":\"52\", \"name\":\"bliskanje\", \"s\":\"bliskanje\", \"l\":\"bliskanje\", \"unit\":\"\"},\"p20\":{ \"pid\":\"53\", \"name\":\"dez_zmrzuje\", \"s\":\"dež, ki zmrzuje\", \"l\":\"dež, ki zmrzuje\", \"unit\":\"\"},\"p21\":{ \"pid\":\"54\", \"name\":\"rosenje_zmrzuje\", \"s\":\"rosenje, ki zmrzuje\", \"l\":\"rosenje, ki zmrzuje\", \"unit\":\"\"},\"p22\":{ \"pid\":\"55\", \"name\":\"iglice\", \"s\":\"iglice\", \"l\":\"ledene iglice\", \"unit\":\"\"},\"p23\":{ \"pid\":\"56\", \"name\":\"sneg\", \"s\":\"sneg\", \"l\":\"sneg\", \"unit\":\"\"},\"p24\":{ \"pid\":\"57\", \"name\":\"zrnat_sneg\", \"s\":\"zrnat sneg\", \"l\":\"zrnat sneg\", \"unit\":\"\"},\"p25\":{ \"pid\":\"58\", \"name\":\"ploha_snega\", \"s\":\"ploha snega\", \"l\":\"ploha snega\", \"unit\":\"\"},\"p26\":{ \"pid\":\"59\", \"name\":\"dez_s_snegom\", \"s\":\"dež s snegom\", \"l\":\"dež s snegom\", \"unit\":\"\"},\"p27\":{ \"pid\":\"60\", \"name\":\"babje_pseno\", \"s\":\"babje pšeno\", \"l\":\"babje pšeno\", \"unit\":\"\"},\"p28\":{ \"pid\":\"61\", \"name\":\"ploha_dezja_s_snegom\", \"s\":\"ploha dežja s snegom\", \"l\":\"ploha dežja s snegom\", \"unit\":\"\"},\"p29\":{ \"pid\":\"62\", \"name\":\"toca\", \"s\":\"toča\", \"l\":\"toča\", \"unit\":\"\"},\"p30\":{ \"pid\":\"63\", \"name\":\"sodra\", \"s\":\"sodra\", \"l\":\"sodra\", \"unit\":\"\"},\"p31\":{ \"pid\":\"65\", \"name\":\"megla\", \"s\":\"megla\", \"l\":\"megla\", \"unit\":\"\"},\"p32\":{ \"pid\":\"66\", \"name\":\"megla_vidno_nebo\", \"s\":\"megla z vidnim nebom\", \"l\":\"megla z vidnim nebom\", \"unit\":\"\"},\"p33\":{ \"pid\":\"67\", \"name\":\"ledena_megla\", \"s\":\"ledena megla\", \"l\":\"ledena megla\", \"unit\":\"\"},\"p34\":{ \"pid\":\"68\", \"name\":\"meglica\", \"s\":\"meglica\", \"l\":\"meglica\", \"unit\":\"\"},\"p35\":{ \"pid\":\"69\", \"name\":\"suha_motnost\", \"s\":\"suha motnost\", \"l\":\"suha motnost\", \"unit\":\"\"},\"p36\":{ \"pid\":\"70\", \"name\":\"talna_megla\", \"s\":\"talna megla\", \"l\":\"nizka (talna) megla\", \"unit\":\"\"},\"p37\":{ \"pid\":\"71\", \"name\":\"rosa\", \"s\":\"rosa\", \"l\":\"rosa\", \"unit\":\"\"},\"p38\":{ \"pid\":\"72\", \"name\":\"slana\", \"s\":\"slana\", \"l\":\"slana\", \"unit\":\"\"},\"p39\":{ \"pid\":\"74\", \"name\":\"poledica\", \"s\":\"poledica\", \"l\":\"poledica\", \"unit\":\"\"},\"p40\":{ \"pid\":\"75\", \"name\":\"poledica_na_tleh\", \"s\":\"poledica na tleh\", \"l\":\"poledica na tleh\", \"unit\":\"\"},\"p41\":{ \"pid\":\"77\", \"name\":\"ivje\", \"s\":\"ivje\", \"l\":\"ivje\", \"unit\":\"\"},\"p42\":{ \"pid\":\"78\", \"name\":\"trdo_ivje\", \"s\":\"trdo ivje\", \"l\":\"trdo ivje\", \"unit\":\"\"},\"p43\":{ \"pid\":\"83\", \"name\":\"padavinski_dan\", \"s\":\"padavine\", \"l\":\"padavine\", \"unit\":\"\"},\"p44\":{ \"pid\":\"82\", \"name\":\"snezna_odeja\", \"s\":\"snežna odeja\", \"l\":\"snežna odeja\", \"unit\":\"\"}}, \"points\":{\"_1061\":{\"_84677760\":{\"p0\":\"-1.8\", \"p1\":\"0.3\", \"p2\":\"-5.1\", \"p3\":\"-8\", \"p4\":\"0\", \"p6\":\"93\", \"p7\":\"984\", \"p11\":\"0\", \"p5\":\"100\", \"p14\":\"ne\", \"p15\":\"ne\", \"p16\":\"ne\", \"p17\":\"ne\", \"p18\":\"ne\", \"p19\":\"ne\", \"p20\":\"ne\", \"p21\":\"ne\", \"p22\":\"ne\", \"p23\":\"da\", \"p24\":\"ne\", \"p25\":\"ne\", \"p26\":\"ne\", \"p27\":\"ne\", \"p28\":\"ne\", \"p29\":\"ne\", \"p30\":\"ne\", \"p31\":\"da\", \"p32\":\"ne\", \"p33\":\"ne\", \"p34\":\"ne\", \"p35\":\"ne\", \"p36\":\"ne\", \"p37\":\"ne\", \"p38\":\"ne\", \"p39\":\"ne\", \"p40\":\"ne\", \"p41\":\"ne\", \"p42\":\"ne\", \"p8\":\"0\", \"p9\":\"5\", \"p10\":\"0\", \"p12\":\"ne\", \"p13\":\"ne\", \"p43\":\"ne\", \"p44\":\"da\"}, \"_84679200\":{\"p0\":\"-0.8\", \"p1\":\"0.3\", \"p2\":\"-1.4\", \"p3\":\"-1.6\", \"p4\":\"0\", \"p6\":\"97\", \"p7\":\"980\", \"p11\":\"0\", \"p5\":\"100\", \"p14\":\"ne\", \"p15\":\"ne\", \"p16\":\"ne\", \"p17\":\"ne\", \"p18\":\"ne\", \"p19\":\"ne\", \"p20\":\"ne\", \"p21\":\"ne\", \"p22\":\"ne\", \"p23\":\"da\", \"p24\":\"ne\", \"p25\":\"ne\", \"p26\":\"da\", \"p27\":\"ne\", \"p28\":\"ne\", \"p29\":\"ne\", \"p30\":\"ne\", \"p31\":\"da\", \"p32\":\"ne\", \"p33\":\"ne\", \"p34\":\"ne\", \"p35\":\"ne\", \"p36\":\"ne\", \"p37\":\"ne\", \"p38\":\"ne\", \"p39\":\"ne\", \"p40\":\"ne\", \"p41\":\"ne\", \"p42\":\"ne\", \"p8\":\"6.1\", \"p9\":\"12\", \"p10\":\"7\", \"p12\":\"ne\", \"p13\":\"ne\", \"p43\":\"da\", \"p44\":\"da\"}, \"_84680640\":{\"p0\":\"2.2\", \"p1\":\"7.7\", \"p2\":\"-7.3\", \"p3\":\"-11\", \"p4\":\"4.2\", \"p6\":\"86\", \"p7\":\"972\", \"p11\":\"1\", \"p5\":\"60\", \"p14\":\"da\", \"p15\":\"ne\", \"p16\":\"ne\", \"p17\":\"ne\", \"p18\":\"ne\", \"p19\":\"ne\", \"p20\":\"ne\", \"p21\":\"ne\", \"p22\":\"ne\", \"p23\":\"ne\", \"p24\":\"ne\", \"p25\":\"ne\", \"p26\":\"ne\", \"p27\":\"ne\", \"p28\":\"ne\", \"p29\":\"ne\", \"p30\":\"ne\", \"p31\":\"ne\", \"p32\":\"ne\", \"p33\":\"ne\", \"p34\":\"ne\", \"p35\":\"ne\", \"p36\":\"ne\", \"p37\":\"ne\", \"p38\":\"ne\", \"p39\":\"ne\", \"p40\":\"ne\", \"p41\":\"ne\", \"p42\":\"ne\", \"p8\":\"1.7\", \"p9\":\"13\", \"p10\":\"2\", \"p12\":\"ne\", \"p13\":\"ne\", \"p43\":\"da\", \"p44\":\"da\"}, \"_84682080\":{\"p0\":\"5.3\", \"p1\":\"8.4\", \"p2\":\"2.8\", \"p3\":\"2.1\", \"p4\":\"1.8\", \"p6\":\"81\", \"p7\":\"968\", \"p11\":\"0\", \"p5\":\"80\", \"p14\":\"da\", \"p15\":\"ne\", \"p16\":\"ne\", \"p17\":\"ne\", \"p18\":\"ne\", \"p19\":\"ne\", \"p20\":\"ne\", \"p21\":\"ne\", \"p22\":\"ne\", \"p23\":\"ne\", \"p24\":\"ne\", \"p25\":\"ne\", \"p26\":\"ne\", \"p27\":\"ne\", \"p28\":\"ne\", \"p29\":\"ne\", \"p30\":\"ne\", \"p31\":\"ne\", \"p32\":\"ne\", \"p33\":\"ne\", \"p34\":\"ne\", \"p35\":\"ne\", \"p36\":\"ne\", \"p37\":\"ne\", \"p38\":\"ne\", \"p39\":\"ne\", \"p40\":\"ne\", \"p41\":\"ne\", \"p42\":\"ne\", \"p8\":\"1.4\", \"p9\":\"0\", \"p10\":\"0\", \"p12\":\"ne\", \"p13\":\"ne\", \"p43\":\"da\", \"p44\":\"ne\"}, \"_84683520\":{\"p0\":\"1.1\", \"p1\":\"3.6\", \"p2\":\"-0.4\", \"p3\":\"-0.3\", \"p4\":\"1.1\", \"p6\":\"95\", \"p7\":\"980\", \"p11\":\"0\", \"p5\":\"93\", \"p14\":\"da\", \"p15\":\"ne\", \"p16\":\"ne\", \"p17\":\"ne\", \"p18\":\"ne\", \"p19\":\"ne\", \"p20\":\"ne\", \"p21\":\"ne\", \"p22\":\"ne\", \"p23\":\"ne\", \"p24\":\"ne\", \"p25\":\"ne\", \"p26\":\"ne\", \"p27\":\"ne\", \"p28\":\"ne\", \"p29\":\"ne\", \"p30\":\"ne\", \"p31\":\"da\", \"p32\":\"ne\", \"p33\":\"ne\", \"p34\":\"ne\", \"p35\":\"ne\", \"p36\":\"ne\", \"p37\":\"ne\", \"p38\":\"da\", \"p39\":\"ne\", \"p40\":\"ne\", \"p41\":\"ne\", \"p42\":\"ne\", \"p8\":\"1.4\", \"p9\":\"0\", \"p10\":\"0\", \"p12\":\"ne\", \"p13\":\"ne\", \"p43\":\"da\", \"p44\":\"ne\"}, \"_84684960\":{\"p0\":\"0.7\", \"p1\":\"5.2\", \"p2\":\"-3.2\", \"p3\":\"-5\", \"p4\":\"2.9\", \"p6\":\"82\", \"p7\":\"984\", \"p11\":\"4.7\", \"p5\":\"47\", \"p14\":\"ne\", \"p15\":\"ne\", \"p16\":\"ne\", \"p17\":\"ne\", \"p18\":\"ne\", \"p19\":\"ne\", \"p20\":\"ne\", \"p21\":\"ne\", \"p22\":\"ne\", \"p23\":\"ne\", \"p24\":\"ne\", \"p25\":\"ne\", \"p26\":\"ne\", \"p27\":\"ne\", \"p28\":\"ne\", \"p29\":\"ne\", \"p30\":\"ne\", \"p31\":\"da\", \"p32\":\"ne\", \"p33\":\"ne\", \"p34\":\"ne\", \"p35\":\"ne\", \"p36\":\"ne\", \"p37\":\"ne\", \"p38\":\"da\", \"p39\":\"ne\", \"p40\":\"ne\", \"p41\":\"ne\", \"p42\":\"ne\", \"p8\":\"3.9\", \"p9\":\"0\", \"p10\":\"0\", \"p12\":\"ne\", \"p13\":\"ne\", \"p43\":\"da\", \"p44\":\"ne\"}, \"_84686400\":{\"p0\":\"1.9\", \"p1\":\"4.2\", \"p2\":\"-0.6\", \"p3\":\"-3.2\", \"p4\":\"0.3\", \"p6\":\"86\", \"p7\":\"981\", \"p11\":\"0\", \"p5\":\"100\", \"p14\":\"ne\", \"p15\":\"ne\", \"p16\":\"ne\", \"p17\":\"ne\", \"p18\":\"ne\", \"p19\":\"ne\", \"p20\":\"ne\", \"p21\":\"ne\", \"p22\":\"ne\", \"p23\":\"ne\", \"p24\":\"ne\", \"p25\":\"ne\", \"p26\":\"ne\", \"p27\":\"ne\", \"p28\":\"ne\", \"p29\":\"ne\", \"p30\":\"ne\", \"p31\":\"ne\", \"p32\":\"ne\", \"p33\":\"ne\", \"p34\":\"ne\", \"p35\":\"ne\", \"p36\":\"ne\", \"p37\":\"ne\", \"p38\":\"da\", \"p39\":\"ne\", \"p40\":\"ne\", \"p41\":\"ne\", \"p42\":\"ne\", \"p8\":\"0\", \"p9\":\"0\", \"p10\":\"0\", \"p12\":\"ne\", \"p13\":\"ne\", \"p43\":\"ne\", \"p44\":\"ne\"}, \"_84687840\":{\"p0\":\"1.4\", \"p1\":\"5.3\", \"p2\":\"-1.1\", \"p3\":\"-4.2\", \"p4\":\"0.9\", \"p6\":\"81\", \"p7\":\"982\", \"p11\":\"3.3\", \"p5\":\"93\", \"p14\":\"ne\", \"p15\":\"ne\", \"p16\":\"ne\", \"p17\":\"ne\", \"p18\":\"ne\", \"p19\":\"ne\", \"p20\":\"ne\", \"p21\":\"ne\", \"p22\":\"ne\", \"p23\":\"ne\", \"p24\":\"ne\", \"p25\":\"ne\", \"p26\":\"ne\", \"p27\":\"ne\", \"p28\":\"ne\", \"p29\":\"ne\", \"p30\":\"ne\", \"p31\":\"ne\", \"p32\":\"ne\", \"p33\":\"ne\", \"p34\":\"ne\", \"p35\":\"ne\", \"p36\":\"ne\", \"p37\":\"ne\", \"p38\":\"da\", \"p39\":\"ne\", \"p40\":\"ne\", \"p41\":\"ne\", \"p42\":\"ne\", \"p8\":\"0\", \"p9\":\"0\", \"p10\":\"0\", \"p12\":\"ne\", \"p13\":\"ne\", \"p43\":\"ne\", \"p44\":\"ne\"}, \"_84689280\":{\"p0\":\"0.5\", \"p1\":\"4\", \"p2\":\"-1.1\", \"p3\":\"-3\", \"p4\":\"0.6\", \"p6\":\"88\", \"p7\":\"982\", \"p11\":\"0.4\", \"p5\":\"97\", \"p14\":\"da\", \"p15\":\"ne\", \"p16\":\"ne\", \"p17\":\"ne\", \"p18\":\"ne\", \"p19\":\"ne\", \"p20\":\"ne\", \"p21\":\"ne\", \"p22\":\"ne\", \"p23\":\"da\", \"p24\":\"ne\", \"p25\":\"ne\", \"p26\":\"da\", \"p27\":\"ne\", \"p28\":\"ne\", \"p29\":\"ne\", \"p30\":\"ne\", \"p31\":\"ne\", \"p32\":\"ne\", \"p33\":\"ne\", \"p34\":\"ne\", \"p35\":\"ne\", \"p36\":\"ne\", \"p37\":\"ne\", \"p38\":\"da\", \"p39\":\"ne\", \"p40\":\"ne\", \"p41\":\"ne\", \"p42\":\"ne\", \"p8\":\"0\", \"p9\":\"0\", \"p10\":\"0\", \"p12\":\"ne\", \"p13\":\"ne\", \"p43\":\"ne\", \"p44\":\"ne\"}, \"_84690720\":{\"p0\":\"0.1\", \"p1\":\"3.4\", \"p2\":\"-1.4\", \"p3\":\"-2\", \"p4\":\"0.8\", \"p6\":\"93\", \"p7\":\"982\", \"p11\":\"4.2\", \"p5\":\"77\", \"p14\":\"ne\", \"p15\":\"ne\", \"p16\":\"ne\", \"p17\":\"ne\", \"p18\":\"ne\", \"p19\":\"ne\", \"p20\":\"ne\", \"p21\":\"ne\", \"p22\":\"ne\", \"p23\":\"ne\", \"p24\":\"ne\", \"p25\":\"ne\", \"p26\":\"ne\", \"p27\":\"ne\", \"p28\":\"ne\", \"p29\":\"ne\", \"p30\":\"ne\", \"p31\":\"da\", \"p32\":\"ne\", \"p33\":\"ne\", \"p34\":\"da\", \"p35\":\"ne\", \"p36\":\"ne\", \"p37\":\"ne\", \"p38\":\"da\", \"p39\":\"ne\", \"p40\":\"ne\", \"p41\":\"ne\", \"p42\":\"ne\", \"p8\":\"1.8\", \"p9\":\"0\", \"p10\":\"0\", \"p12\":\"ne\", \"p13\":\"ne\", \"p43\":\"da\", \"p44\":\"ne\"}, \"_84692160\":{\"p0\":\"2.6\", \"p1\":\"5.7\", \"p2\":\"-1.7\", \"p3\":\"-3.5\", \"p4\":\"1.1\", \"p6\":\"90\", \"p7\":\"982\", \"p11\":\"0\", \"p5\":\"97\", \"p14\":\"da\", \"p15\":\"ne\", \"p16\":\"ne\", \"p17\":\"ne\", \"p18\":\"ne\", \"p19\":\"ne\", \"p20\":\"ne\", \"p21\":\"ne\", \"p22\":\"ne\", \"p23\":\"ne\", \"p24\":\"ne\", \"p25\":\"ne\", \"p26\":\"ne\", \"p27\":\"ne\", \"p28\":\"ne\", \"p29\":\"ne\", \"p30\":\"ne\", \"p31\":\"ne\", \"p32\":\"ne\", \"p33\":\"ne\", \"p34\":\"ne\", \"p35\":\"ne\", \"p36\":\"ne\", \"p37\":\"ne\", \"p38\":\"da\", \"p39\":\"ne\", \"p40\":\"ne\", \"p41\":\"ne\", \"p42\":\"ne\", \"p8\":\"0\", \"p9\":\"0\", \"p10\":\"0\", \"p12\":\"ne\", \"p13\":\"ne\", \"p43\":\"ne\", \"p44\":\"ne\"}, \"_84693600\":{\"p0\":\"-0.2\", \"p1\":\"2.8\", \"p2\":\"-1\", \"p3\":\"-0.2\", \"p4\":\"0\", \"p6\":\"90\", \"p7\":\"995\", \"p11\":\"0\", \"p5\":\"100\", \"p14\":\"da\", \"p15\":\"ne\", \"p16\":\"ne\", \"p17\":\"ne\", \"p18\":\"ne\", \"p19\":\"ne\", \"p20\":\"ne\", \"p21\":\"ne\", \"p22\":\"ne\", \"p23\":\"da\", \"p24\":\"ne\", \"p25\":\"ne\", \"p26\":\"da\", \"p27\":\"ne\", \"p28\":\"ne\", \"p29\":\"ne\", \"p30\":\"ne\", \"p31\":\"ne\", \"p32\":\"ne\", \"p33\":\"ne\", \"p34\":\"ne\", \"p35\":\"ne\", \"p36\":\"ne\", \"p37\":\"ne\", \"p38\":\"ne\", \"p39\":\"ne\", \"p40\":\"ne\", \"p41\":\"ne\", \"p42\":\"ne\", \"p8\":\"7.6\", \"p9\":\"1\", \"p10\":\"1\", \"p12\":\"ne\", \"p13\":\"ne\", \"p43\":\"da\", \"p44\":\"da\"}, \"_84695040\":{\"p0\":\"-4.9\", \"p1\":\"-0.9\", \"p2\":\"-6.6\", \"p3\":\"-9\", \"p4\":\"0.3\", \"p6\":\"89\", \"p7\":\"1000\", \"p11\":\"5.2\", \"p5\":\"27\", \"p14\":\"ne\", \"p15\":\"ne\", \"p16\":\"ne\", \"p17\":\"ne\", \"p18\":\"ne\", \"p19\":\"ne\", \"p20\":\"ne\", \"p21\":\"ne\", \"p22\":\"ne\", \"p23\":\"ne\", \"p24\":\"ne\", \"p25\":\"ne\", \"p26\":\"ne\", \"p27\":\"ne\", \"p28\":\"ne\", \"p29\":\"ne\", \"p30\":\"ne\", \"p31\":\"ne\", \"p32\":\"ne\", \"p33\":\"ne\", \"p34\":\"da\", \"p35\":\"ne\", \"p36\":\"ne\", \"p37\":\"ne\", \"p38\":\"ne\", \"p39\":\"ne\", \"p40\":\"ne\", \"p41\":\"ne\", \"p42\":\"ne\", \"p8\":\"3.2\", \"p9\":\"3\", \"p10\":\"3\", \"p12\":\"ne\", \"p13\":\"ne\", \"p43\":\"da\", \"p44\":\"da\"}, \"_84696480\":{\"p0\":\"-4.9\", \"p1\":\"-3.8\", \"p2\":\"-7.9\", \"p3\":\"-10.4\", \"p4\":\"0.6\", \"p6\":\"95\", \"p7\":\"996\", \"p11\":\"0\", \"p5\":\"97\", \"p14\":\"ne\", \"p15\":\"ne\", \"p16\":\"ne\", \"p17\":\"ne\", \"p18\":\"ne\", \"p19\":\"ne\", \"p20\":\"ne\", \"p21\":\"ne\", \"p22\":\"ne\", \"p23\":\"ne\", \"p24\":\"ne\", \"p25\":\"ne\", \"p26\":\"ne\", \"p27\":\"ne\", \"p28\":\"ne\", \"p29\":\"ne\", \"p30\":\"ne\", \"p31\":\"da\", \"p32\":\"ne\", \"p33\":\"ne\", \"p34\":\"da\", \"p35\":\"ne\", \"p36\":\"ne\", \"p37\":\"ne\", \"p38\":\"ne\", \"p39\":\"ne\", \"p40\":\"ne\", \"p41\":\"da\", \"p42\":\"ne\", \"p8\":\"0\", \"p9\":\"1\", \"p10\":\"0\", \"p12\":\"ne\", \"p13\":\"ne\", \"p43\":\"ne\", \"p44\":\"da\"}, \"_84697920\":{\"p0\":\"-2\", \"p1\":\"-1.2\", \"p2\":\"-4.6\", \"p3\":\"-4.6\", \"p4\":\"1.9\", \"p6\":\"76\", \"p7\":\"997\", \"p11\":\"0.1\", \"p5\":\"97\", \"p14\":\"ne\", \"p15\":\"ne\", \"p16\":\"ne\", \"p17\":\"ne\", \"p18\":\"ne\", \"p19\":\"ne\", \"p20\":\"ne\", \"p21\":\"ne\", \"p22\":\"ne\", \"p23\":\"ne\", \"p24\":\"ne\", \"p25\":\"ne\", \"p26\":\"ne\", \"p27\":\"ne\", \"p28\":\"ne\", \"p29\":\"ne\", \"p30\":\"ne\", \"p31\":\"ne\", \"p32\":\"ne\", \"p33\":\"ne\", \"p34\":\"ne\", \"p35\":\"ne\", \"p36\":\"ne\", \"p37\":\"ne\", \"p38\":\"ne\", \"p39\":\"ne\", \"p40\":\"ne\", \"p41\":\"da\", \"p42\":\"ne\", \"p8\":\"0\", \"p9\":\"1\", \"p10\":\"0\", \"p12\":\"ne\", \"p13\":\"ne\", \"p43\":\"ne\", \"p44\":\"da\"}, \"_84699360\":{\"p0\":\"-1.9\", \"p1\":\"3.6\", \"p2\":\"-4.4\", \"p3\":\"-3\", \"p4\":\"1.1\", \"p6\":\"79\", \"p7\":\"990\", \"p11\":\"7\", \"p5\":\"47\", \"p14\":\"ne\", \"p15\":\"ne\", \"p16\":\"ne\", \"p17\":\"ne\", \"p18\":\"ne\", \"p19\":\"ne\", \"p20\":\"ne\", \"p21\":\"ne\", \"p22\":\"ne\", \"p23\":\"ne\", \"p24\":\"ne\", \"p25\":\"ne\", \"p26\":\"ne\", \"p27\":\"ne\", \"p28\":\"ne\", \"p29\":\"ne\", \"p30\":\"ne\", \"p31\":\"ne\", \"p32\":\"ne\", \"p33\":\"ne\", \"p34\":\"da\", \"p35\":\"ne\", \"p36\":\"ne\", \"p37\":\"ne\", \"p38\":\"ne\", \"p39\":\"ne\", \"p40\":\"ne\", \"p41\":\"ne\", \"p42\":\"ne\", \"p8\":\"0\", \"p9\":\"1\", \"p10\":\"0\", \"p12\":\"ne\", \"p13\":\"ne\", \"p43\":\"ne\", \"p44\":\"da\"}, \"_84700800\":{\"p0\":\"-4\", \"p1\":\"1\", \"p2\":\"-7.1\", \"p3\":\"-9.7\", \"p4\":\"0.6\", \"p6\":\"83\", \"p7\":\"994\", \"p11\":\"6\", \"p5\":\"37\", \"p14\":\"ne\", \"p15\":\"ne\", \"p16\":\"ne\", \"p17\":\"ne\", \"p18\":\"ne\", \"p19\":\"ne\", \"p20\":\"ne\", \"p21\":\"ne\", \"p22\":\"ne\", \"p23\":\"ne\", \"p24\":\"ne\", \"p25\":\"ne\", \"p26\":\"ne\", \"p27\":\"ne\", \"p28\":\"ne\", \"p29\":\"ne\", \"p30\":\"ne\", \"p31\":\"da\", \"p32\":\"ne\", \"p33\":\"ne\", \"p34\":\"ne\", \"p35\":\"ne\", \"p36\":\"ne\", \"p37\":\"ne\", \"p38\":\"da\", \"p39\":\"ne\", \"p40\":\"ne\", \"p41\":\"da\", \"p42\":\"ne\", \"p8\":\"0\", \"p9\":\"0\", \"p10\":\"0\", \"p12\":\"ne\", \"p13\":\"ne\", \"p43\":\"ne\", \"p44\":\"ne\"}, \"_84702240\":{\"p0\":\"-8.3\", \"p1\":\"-3.4\", \"p2\":\"-10.4\", \"p3\":\"-11.9\", \"p4\":\"0.6\", \"p6\":\"68\", \"p7\":\"1004\", \"p11\":\"6.8\", \"p5\":\"37\", \"p14\":\"ne\", \"p15\":\"ne\", \"p16\":\"ne\", \"p17\":\"ne\", \"p18\":\"ne\", \"p19\":\"ne\", \"p20\":\"ne\", \"p21\":\"ne\", \"p22\":\"ne\", \"p23\":\"da\", \"p24\":\"ne\", \"p25\":\"ne\", \"p26\":\"ne\", \"p27\":\"ne\", \"p28\":\"ne\", \"p29\":\"ne\", \"p30\":\"ne\", \"p31\":\"ne\", \"p32\":\"ne\", \"p33\":\"ne\", \"p34\":\"ne\", \"p35\":\"ne\", \"p36\":\"ne\", \"p37\":\"ne\", \"p38\":\"ne\", \"p39\":\"ne\", \"p40\":\"ne\", \"p41\":\"ne\", \"p42\":\"ne\", \"p8\":\"0\", \"p9\":\"0\", \"p10\":\"0\", \"p12\":\"ne\", \"p13\":\"ne\", \"p43\":\"ne\", \"p44\":\"ne\"}, \"_84703680\":{\"p0\":\"-9.4\", \"p1\":\"-3.8\", \"p2\":\"-14.4\", \"p3\":\"-16\", \"p4\":\"0.3\", \"p6\":\"82\", \"p7\":\"1000\", \"p11\":\"7.3\", \"p5\":\"3\", \"p14\":\"ne\", \"p15\":\"ne\", \"p16\":\"ne\", \"p17\":\"ne\", \"p18\":\"ne\", \"p19\":\"ne\", \"p20\":\"ne\", \"p21\":\"ne\", \"p22\":\"ne\", \"p23\":\"ne\", \"p24\":\"ne\", \"p25\":\"ne\", \"p26\":\"ne\", \"p27\":\"ne\", \"p28\":\"ne\", \"p29\":\"ne\", \"p30\":\"ne\", \"p31\":\"ne\", \"p32\":\"ne\", \"p33\":\"ne\", \"p34\":\"da\", \"p35\":\"ne\", \"p36\":\"ne\", \"p37\":\"ne\", \"p38\":\"ne\", \"p39\":\"ne\", \"p40\":\"ne\", \"p41\":\"ne\", \"p42\":\"ne\", \"p8\":\"0\", \"p9\":\"0\", \"p10\":\"0\", \"p12\":\"ne\", \"p13\":\"ne\", \"p43\":\"da\", \"p44\":\"ne\"}, \"_84705120\":{\"p0\":\"-8.2\", \"p1\":\"-2.1\", \"p2\":\"-13.7\", \"p3\":\"-15.5\", \"p4\":\"0.6\", \"p6\":\"79\", \"p7\":\"994\", \"p11\":\"7.3\", \"p5\":\"0\", \"p14\":\"ne\", \"p15\":\"ne\", \"p16\":\"ne\", \"p17\":\"ne\", \"p18\":\"ne\", \"p19\":\"ne\", \"p20\":\"ne\", \"p21\":\"ne\", \"p22\":\"ne\", \"p23\":\"ne\", \"p24\":\"ne\", \"p25\":\"ne\", \"p26\":\"ne\", \"p27\":\"ne\", \"p28\":\"ne\", \"p29\":\"ne\", \"p30\":\"ne\", \"p31\":\"ne\", \"p32\":\"ne\", \"p33\":\"ne\", \"p34\":\"da\", \"p35\":\"ne\", \"p36\":\"ne\", \"p37\":\"ne\", \"p38\":\"ne\", \"p39\":\"ne\", \"p40\":\"ne\", \"p41\":\"da\", \"p42\":\"ne\", \"p8\":\"0\", \"p9\":\"0\", \"p10\":\"0\", \"p12\":\"ne\", \"p13\":\"ne\", \"p43\":\"ne\", \"p44\":\"ne\"}, \"_84706560\":{\"p0\":\"-4.7\", \"p1\":\"-0.8\", \"p2\":\"-11.7\", \"p3\":\"-13\", \"p4\":\"0.3\", \"p6\":\"78\", \"p7\":\"988\", \"p11\":\"2.2\", \"p5\":\"83\", \"p14\":\"ne\", \"p15\":\"ne\", \"p16\":\"ne\", \"p17\":\"ne\", \"p18\":\"ne\", \"p19\":\"ne\", \"p20\":\"ne\", \"p21\":\"ne\", \"p22\":\"ne\", \"p23\":\"ne\", \"p24\":\"ne\", \"p25\":\"ne\", \"p26\":\"ne\", \"p27\":\"ne\", \"p28\":\"ne\", \"p29\":\"ne\", \"p30\":\"ne\", \"p31\":\"ne\", \"p32\":\"ne\", \"p33\":\"ne\", \"p34\":\"da\", \"p35\":\"ne\", \"p36\":\"ne\", \"p37\":\"ne\", \"p38\":\"ne\", \"p39\":\"ne\", \"p40\":\"ne\", \"p41\":\"ne\", \"p42\":\"ne\", \"p8\":\"0\", \"p9\":\"0\", \"p10\":\"0\", \"p12\":\"ne\", \"p13\":\"ne\", \"p43\":\"ne\", \"p44\":\"ne\"}, \"_84708000\":{\"p0\":\"-5\", \"p1\":\"0.4\", \"p2\":\"-10\", \"p3\":\"-12.2\", \"p4\":\"0.3\", \"p6\":\"84\", \"p7\":\"984\", \"p11\":\"5.8\", \"p5\":\"23\", \"p14\":\"ne\", \"p15\":\"ne\", \"p16\":\"ne\", \"p17\":\"ne\", \"p18\":\"ne\", \"p19\":\"ne\", \"p20\":\"ne\", \"p21\":\"ne\", \"p22\":\"ne\", \"p23\":\"ne\", \"p24\":\"ne\", \"p25\":\"ne\", \"p26\":\"ne\", \"p27\":\"ne\", \"p28\":\"ne\", \"p29\":\"ne\", \"p30\":\"ne\", \"p31\":\"ne\", \"p32\":\"ne\", \"p33\":\"ne\", \"p34\":\"da\", \"p35\":\"ne\", \"p36\":\"ne\", \"p37\":\"ne\", \"p38\":\"ne\", \"p39\":\"ne\", \"p40\":\"ne\", \"p41\":\"ne\", \"p42\":\"ne\", \"p8\":\"0\", \"p9\":\"0\", \"p10\":\"0\", \"p12\":\"ne\", \"p13\":\"ne\", \"p43\":\"ne\", \"p44\":\"ne\"}, \"_84709440\":{\"p0\":\"-3.1\", \"p1\":\"2\", \"p2\":\"-9.2\", \"p3\":\"-10.7\", \"p4\":\"0.3\", \"p6\":\"81\", \"p7\":\"977\", \"p11\":\"1.6\", \"p5\":\"70\", \"p14\":\"ne\", \"p15\":\"ne\", \"p16\":\"ne\", \"p17\":\"ne\", \"p18\":\"ne\", \"p19\":\"ne\", \"p20\":\"ne\", \"p21\":\"ne\", \"p22\":\"ne\", \"p23\":\"ne\", \"p24\":\"ne\", \"p25\":\"ne\", \"p26\":\"ne\", \"p27\":\"ne\", \"p28\":\"ne\", \"p29\":\"ne\", \"p30\":\"ne\", \"p31\":\"ne\", \"p32\":\"ne\", \"p33\":\"ne\", \"p34\":\"da\", \"p35\":\"ne\", \"p36\":\"ne\", \"p37\":\"ne\", \"p38\":\"da\", \"p39\":\"ne\", \"p40\":\"ne\", \"p41\":\"ne\", \"p42\":\"ne\", \"p8\":\"0\", \"p9\":\"0\", \"p10\":\"0\", \"p12\":\"ne\", \"p13\":\"ne\", \"p43\":\"ne\", \"p44\":\"ne\"}, \"_84710880\":{\"p0\":\"-1.8\", \"p1\":\"-0.8\", \"p2\":\"-3.7\", \"p3\":\"-6\", \"p4\":\"0.6\", \"p6\":\"94\", \"p7\":\"976\", \"p11\":\"0\", \"p5\":\"100\", \"p14\":\"ne\", \"p15\":\"ne\", \"p16\":\"ne\", \"p17\":\"ne\", \"p18\":\"ne\", \"p19\":\"ne\", \"p20\":\"ne\", \"p21\":\"ne\", \"p22\":\"ne\", \"p23\":\"da\", \"p24\":\"ne\", \"p25\":\"ne\", \"p26\":\"ne\", \"p27\":\"ne\", \"p28\":\"ne\", \"p29\":\"ne\", \"p30\":\"ne\", \"p31\":\"ne\", \"p32\":\"ne\", \"p33\":\"ne\", \"p34\":\"ne\", \"p35\":\"ne\", \"p36\":\"ne\", \"p37\":\"ne\", \"p38\":\"ne\", \"p39\":\"ne\", \"p40\":\"ne\", \"p41\":\"ne\", \"p42\":\"ne\", \"p8\":\"0\", \"p9\":\"0\", \"p10\":\"0\", \"p12\":\"ne\", \"p13\":\"ne\", \"p43\":\"ne\", \"p44\":\"da\"}, \"_84712320\":{\"p0\":\"-1.6\", \"p1\":\"0\", \"p2\":\"-2.3\", \"p3\":\"-2.5\", \"p4\":\"0.8\", \"p6\":\"88\", \"p7\":\"972\", \"p11\":\"0\", \"p5\":\"100\", \"p14\":\"ne\", \"p15\":\"ne\", \"p16\":\"ne\", \"p17\":\"ne\", \"p18\":\"ne\", \"p19\":\"ne\", \"p20\":\"ne\", \"p21\":\"ne\", \"p22\":\"ne\", \"p23\":\"da\", \"p24\":\"ne\", \"p25\":\"ne\", \"p26\":\"ne\", \"p27\":\"ne\", \"p28\":\"ne\", \"p29\":\"ne\", \"p30\":\"ne\", \"p31\":\"ne\", \"p32\":\"ne\", \"p33\":\"ne\", \"p34\":\"ne\", \"p35\":\"ne\", \"p36\":\"ne\", \"p37\":\"ne\", \"p38\":\"ne\", \"p39\":\"ne\", \"p40\":\"ne\", \"p41\":\"ne\", \"p42\":\"ne\", \"p8\":\"3.7\", \"p9\":\"5\", \"p10\":\"5\", \"p12\":\"ne\", \"p13\":\"ne\", \"p43\":\"da\", \"p44\":\"da\"}, \"_84713760\":{\"p0\":\"-3.5\", \"p1\":\"-1.8\", \"p2\":\"-4\", \"p3\":\"-4\", \"p4\":\"0.6\", \"p6\":\"84\", \"p7\":\"986\", \"p11\":\"0\", \"p5\":\"100\", \"p14\":\"ne\", \"p15\":\"ne\", \"p16\":\"ne\", \"p17\":\"ne\", \"p18\":\"ne\", \"p19\":\"ne\", \"p20\":\"ne\", \"p21\":\"ne\", \"p22\":\"ne\", \"p23\":\"da\", \"p24\":\"ne\", \"p25\":\"ne\", \"p26\":\"ne\", \"p27\":\"ne\", \"p28\":\"ne\", \"p29\":\"ne\", \"p30\":\"ne\", \"p31\":\"ne\", \"p32\":\"ne\", \"p33\":\"ne\", \"p34\":\"ne\", \"p35\":\"ne\", \"p36\":\"ne\", \"p37\":\"ne\", \"p38\":\"ne\", \"p39\":\"ne\", \"p40\":\"ne\", \"p41\":\"ne\", \"p42\":\"ne\", \"p8\":\"0.3\", \"p9\":\"5\", \"p10\":\"0\", \"p12\":\"ne\", \"p13\":\"ne\", \"p43\":\"da\", \"p44\":\"da\"}, \"_84715200\":{\"p0\":\"-8.5\", \"p1\":\"-1.4\", \"p2\":\"-11\", \"p3\":\"-12\", \"p4\":\"0.3\", \"p6\":\"77\", \"p7\":\"998\", \"p11\":\"4\", \"p5\":\"43\", \"p14\":\"ne\", \"p15\":\"ne\", \"p16\":\"ne\", \"p17\":\"ne\", \"p18\":\"ne\", \"p19\":\"ne\", \"p20\":\"ne\", \"p21\":\"ne\", \"p22\":\"ne\", \"p23\":\"ne\", \"p24\":\"ne\", \"p25\":\"ne\", \"p26\":\"ne\", \"p27\":\"ne\", \"p28\":\"ne\", \"p29\":\"ne\", \"p30\":\"ne\", \"p31\":\"ne\", \"p32\":\"ne\", \"p33\":\"ne\", \"p34\":\"da\", \"p35\":\"ne\", \"p36\":\"ne\", \"p37\":\"ne\", \"p38\":\"ne\", \"p39\":\"ne\", \"p40\":\"ne\", \"p41\":\"ne\", \"p42\":\"ne\", \"p8\":\"0.2\", \"p9\":\"6\", \"p10\":\"1\", \"p12\":\"ne\", \"p13\":\"ne\", \"p43\":\"da\", \"p44\":\"da\"}, \"_84716640\":{\"p0\":\"-11.1\", \"p1\":\"-2.7\", \"p2\":\"-15.6\", \"p3\":\"-18.4\", \"p4\":\"0.3\", \"p6\":\"83\", \"p7\":\"996\", \"p11\":\"7.9\", \"p5\":\"0\", \"p14\":\"ne\", \"p15\":\"ne\", \"p16\":\"ne\", \"p17\":\"ne\", \"p18\":\"ne\", \"p19\":\"ne\", \"p20\":\"ne\", \"p21\":\"ne\", \"p22\":\"ne\", \"p23\":\"ne\", \"p24\":\"ne\", \"p25\":\"ne\", \"p26\":\"ne\", \"p27\":\"ne\", \"p28\":\"ne\", \"p29\":\"ne\", \"p30\":\"ne\", \"p31\":\"ne\", \"p32\":\"ne\", \"p33\":\"ne\", \"p34\":\"da\", \"p35\":\"ne\", \"p36\":\"ne\", \"p37\":\"ne\", \"p38\":\"ne\", \"p39\":\"ne\", \"p40\":\"ne\", \"p41\":\"da\", \"p42\":\"ne\", \"p8\":\"0\", \"p9\":\"5\", \"p10\":\"0\", \"p12\":\"ne\", \"p13\":\"ne\", \"p43\":\"ne\", \"p44\":\"da\"}, \"_84718080\":{\"p0\":\"-8.5\", \"p1\":\"-0.2\", \"p2\":\"-15.2\", \"p3\":\"-17.5\", \"p4\":\"0.3\", \"p6\":\"86\", \"p7\":\"994\", \"p11\":\"4.9\", \"p5\":\"27\", \"p14\":\"ne\", \"p15\":\"ne\", \"p16\":\"ne\", \"p17\":\"ne\", \"p18\":\"ne\", \"p19\":\"ne\", \"p20\":\"ne\", \"p21\":\"ne\", \"p22\":\"ne\", \"p23\":\"ne\", \"p24\":\"ne\", \"p25\":\"ne\", \"p26\":\"ne\", \"p27\":\"ne\", \"p28\":\"ne\", \"p29\":\"ne\", \"p30\":\"ne\", \"p31\":\"ne\", \"p32\":\"ne\", \"p33\":\"ne\", \"p34\":\"da\", \"p35\":\"ne\", \"p36\":\"ne\", \"p37\":\"ne\", \"p38\":\"ne\", \"p39\":\"ne\", \"p40\":\"ne\", \"p41\":\"da\", \"p42\":\"ne\", \"p8\":\"0\", \"p9\":\"5\", \"p10\":\"0\", \"p12\":\"ne\", \"p13\":\"ne\", \"p43\":\"ne\", \"p44\":\"da\"}, \"_84719520\":{\"p0\":\"-1.6\", \"p1\":\"4.6\", \"p2\":\"-12.2\", \"p3\":\"-13.9\", \"p4\":\"0.6\", \"p6\":\"81\", \"p7\":\"986\", \"p11\":\"5\", \"p5\":\"87\", \"p14\":\"ne\", \"p15\":\"ne\", \"p16\":\"ne\", \"p17\":\"ne\", \"p18\":\"ne\", \"p19\":\"ne\", \"p20\":\"ne\", \"p21\":\"ne\", \"p22\":\"ne\", \"p23\":\"ne\", \"p24\":\"ne\", \"p25\":\"ne\", \"p26\":\"ne\", \"p27\":\"ne\", \"p28\":\"ne\", \"p29\":\"ne\", \"p30\":\"ne\", \"p31\":\"da\", \"p32\":\"ne\", \"p33\":\"ne\", \"p34\":\"da\", \"p35\":\"ne\", \"p36\":\"ne\", \"p37\":\"ne\", \"p38\":\"ne\", \"p39\":\"ne\", \"p40\":\"ne\", \"p41\":\"da\", \"p42\":\"ne\", \"p8\":\"0\", \"p9\":\"4\", \"p10\":\"0\", \"p12\":\"ne\", \"p13\":\"ne\", \"p43\":\"ne\", \"p44\":\"da\"}, \"_84720960\":{\"p0\":\"2.5\", \"p1\":\"8.2\", \"p2\":\"-0.8\", \"p3\":\"-2.5\", \"p4\":\"0.3\", \"p6\":\"79\", \"p7\":\"978\", \"p11\":\"1.2\", \"p5\":\"63\", \"p14\":\"ne\", \"p15\":\"ne\", \"p16\":\"ne\", \"p17\":\"ne\", \"p18\":\"ne\", \"p19\":\"ne\", \"p20\":\"ne\", \"p21\":\"ne\", \"p22\":\"ne\", \"p23\":\"ne\", \"p24\":\"ne\", \"p25\":\"ne\", \"p26\":\"ne\", \"p27\":\"ne\", \"p28\":\"ne\", \"p29\":\"ne\", \"p30\":\"ne\", \"p31\":\"ne\", \"p32\":\"ne\", \"p33\":\"ne\", \"p34\":\"ne\", \"p35\":\"ne\", \"p36\":\"ne\", \"p37\":\"ne\", \"p38\":\"ne\", \"p39\":\"ne\", \"p40\":\"ne\", \"p41\":\"ne\", \"p42\":\"ne\", \"p8\":\"0\", \"p9\":\"3\", \"p10\":\"0\", \"p12\":\"ne\", \"p13\":\"ne\", \"p43\":\"ne\", \"p44\":\"da\"}, \"_84722400\":{\"p0\":\"3.2\", \"p1\":\"5.7\", \"p2\":\"-1\", \"p3\":\"-4\", \"p4\":\"0.6\", \"p6\":\"94\", \"p7\":\"969\", \"p11\":\"0\", \"p5\":\"100\", \"p14\":\"da\", \"p15\":\"ne\", \"p16\":\"ne\", \"p17\":\"ne\", \"p18\":\"ne\", \"p19\":\"ne\", \"p20\":\"ne\", \"p21\":\"ne\", \"p22\":\"ne\", \"p23\":\"da\", \"p24\":\"ne\", \"p25\":\"ne\", \"p26\":\"ne\", \"p27\":\"ne\", \"p28\":\"ne\", \"p29\":\"ne\", \"p30\":\"ne\", \"p31\":\"ne\", \"p32\":\"ne\", \"p33\":\"ne\", \"p34\":\"ne\", \"p35\":\"ne\", \"p36\":\"ne\", \"p37\":\"ne\", \"p38\":\"ne\", \"p39\":\"ne\", \"p40\":\"ne\", \"p41\":\"ne\", \"p42\":\"ne\", \"p8\":\"0\", \"p9\":\"2\", \"p10\":\"2\", \"p12\":\"ne\", \"p13\":\"ne\", \"p43\":\"da\", \"p44\":\"da\"}}}}\n"
     ]
    }
   ],
   "source": [
    "\n",
    "link = construct_url(\"MARIBOR - TEZNO\",start = \"1961-01-01\",stop = \"1961-02-01\")\n",
    "print(link)\n",
    "response = requests.get(link)\n",
    "if response.encoding is not None:\n",
    "    content = response.content.decode('utf-8', errors='replace')\n",
    "data = parse_content(content)\n",
    "map_parameter_names = parameter_names(data)"
   ]
  },
  {
   "cell_type": "code",
   "execution_count": 9,
   "metadata": {},
   "outputs": [
    {
     "data": {
      "text/plain": [
       "{'p0': 'povprečna temperatura zraka na 2 m (°C)',\n",
       " 'p1': 'maksimalna temperatura zraka na 2 m (°C)',\n",
       " 'p2': 'minimalna temperatura zraka na 2 m (°C)',\n",
       " 'p3': 'minimalna temperatura zraka na 5cm (°C)',\n",
       " 'p4': 'povprečna hitrost vetra (m/s)',\n",
       " 'p5': 'povprečna oblačnost (pokritost neba v %)',\n",
       " 'p6': 'povprečna relativna vlaga (%)',\n",
       " 'p7': 'povprečen zračni tlak (hPa)',\n",
       " 'p8': '24-urna količina padavin ob 7 h (mm)',\n",
       " 'p9': 'skupna višina snežne odeje (cm)',\n",
       " 'p10': 'višina novozapadlega snega (cm)',\n",
       " 'p11': 'trajanje sončnega obsevanja (h)',\n",
       " 'p12': 'močan veter (> 6bf)',\n",
       " 'p13': 'viharni veter (> 8bf)',\n",
       " 'p14': 'dež',\n",
       " 'p15': 'rosenje',\n",
       " 'p16': 'ploha dežja',\n",
       " 'p17': 'nevihta',\n",
       " 'p18': 'grmenje',\n",
       " 'p19': 'bliskanje',\n",
       " 'p20': 'dež, ki zmrzuje',\n",
       " 'p21': 'rosenje, ki zmrzuje',\n",
       " 'p22': 'ledene iglice',\n",
       " 'p23': 'sneg',\n",
       " 'p24': 'zrnat sneg',\n",
       " 'p25': 'ploha snega',\n",
       " 'p26': 'dež s snegom',\n",
       " 'p27': 'babje pšeno',\n",
       " 'p28': 'ploha dežja s snegom',\n",
       " 'p29': 'toča',\n",
       " 'p30': 'sodra',\n",
       " 'p31': 'megla',\n",
       " 'p32': 'megla z vidnim nebom',\n",
       " 'p33': 'ledena megla',\n",
       " 'p34': 'meglica',\n",
       " 'p35': 'suha motnost',\n",
       " 'p36': 'nizka (talna) megla',\n",
       " 'p37': 'rosa',\n",
       " 'p38': 'slana',\n",
       " 'p39': 'poledica',\n",
       " 'p40': 'poledica na tleh',\n",
       " 'p41': 'ivje',\n",
       " 'p42': 'trdo ivje',\n",
       " 'p43': 'padavine',\n",
       " 'p44': 'snežna odeja'}"
      ]
     },
     "execution_count": 9,
     "metadata": {},
     "output_type": "execute_result"
    }
   ],
   "source": [
    "param"
   ]
  },
  {
   "cell_type": "code",
   "execution_count": null,
   "metadata": {},
   "outputs": [],
   "source": []
  }
 ],
 "metadata": {
  "kernelspec": {
   "display_name": "Python 3",
   "language": "python",
   "name": "python3"
  },
  "language_info": {
   "codemirror_mode": {
    "name": "ipython",
    "version": 3
   },
   "file_extension": ".py",
   "mimetype": "text/x-python",
   "name": "python",
   "nbconvert_exporter": "python",
   "pygments_lexer": "ipython3",
   "version": "3.10.4"
  }
 },
 "nbformat": 4,
 "nbformat_minor": 2
}
